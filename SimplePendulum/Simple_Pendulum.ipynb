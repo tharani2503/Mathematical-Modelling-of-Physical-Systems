{
 "cells": [
  {
   "cell_type": "markdown",
   "id": "99787154-eb79-446f-a72b-114fdb83834f",
   "metadata": {},
   "source": [
    "Simiple Pendulum"
   ]
  },
  {
   "cell_type": "code",
   "execution_count": null,
   "id": "19448d1e-9668-40f3-a3be-5fffd070e74d",
   "metadata": {},
   "outputs": [],
   "source": [
    "## import modules\n",
    "from sympy import *\n",
    "from sympy.physics.mechanics import *\n",
    "from scipy.integrate import solve_ivp\n",
    "import numpy as np\n",
    "import matplotlib.pyplot as plt\n",
    "import matplotlib.animation as animation\n",
    "import ffmpeg\n",
    "from matplotlib.animation import FFMpegWriter\n",
    "init_vprinting()"
   ]
  },
  {
   "cell_type": "code",
   "execution_count": null,
   "id": "788dfc90-fafb-4716-a25c-93f7a96e32c9",
   "metadata": {},
   "outputs": [],
   "source": [
    "## defining lagrangian\n",
    "m,g,l,t = symbols(\"m g ell t\")\n",
    "theta = dynamicsymbols(\"theta\") \n",
    "\n",
    "## positions coordinates\n",
    "x= l*sin(theta)\n",
    "y= -l*cos(theta)\n",
    "\n",
    "## velocities\n",
    "x_1t=diff(x,t)\n",
    "y_1t=diff(y,t)\n",
    "\n",
    "theta_1t=diff(theta,t)\n",
    "theta_2t=diff(theta_1t,t)\n",
    "\n",
    "## energies\n",
    "KE=0.5*m*(l*theta_1t)**2\n",
    "PE=m*g*y\n",
    "\n",
    "## lagrangian\n",
    "L=KE-PE"
   ]
  },
  {
   "cell_type": "code",
   "execution_count": null,
   "id": "b03d2ed4-235e-4241-a2f7-0b9bcdd19f9a",
   "metadata": {},
   "outputs": [],
   "source": [
    "eqn1=diff(diff(L,theta_1t),t) - diff(L,theta)\n",
    "sln=solve(eqn1,theta_2t)\n",
    "Eq(theta_2t,sln[0])"
   ]
  },
  {
   "cell_type": "code",
   "execution_count": null,
   "id": "f6bb4399-1e7f-4c24-a8ff-ee8869dc683c",
   "metadata": {},
   "outputs": [],
   "source": [
    "var=Matrix([theta,theta_1t])\n",
    "var_1t=diff(var,t)\n",
    "Eq(var_1t,Matrix([theta_1t,sln[0]]))"
   ]
  },
  {
   "cell_type": "code",
   "execution_count": null,
   "id": "d31b90f2-5ed3-42dc-900a-0bb1944c6851",
   "metadata": {},
   "outputs": [],
   "source": [
    "g=9.81\n",
    "l=1\n",
    "T=(2*np.pi*(np.sqrt(l/g)))/4 ## time period /four \n",
    "Tp=0.5212\n",
    "\n",
    "import numpy as np\n",
    "\n",
    "## initial conditions\n",
    "theta_0=np.deg2rad(45)\n",
    "theta_0t=0\n",
    "theta_0t_dot= -g*np.sin(theta_0)/l\n",
    "\n",
    "def pendulum_ode(t,y):\n",
    "    return(y[1],-g*np.sin(y[0])/l)\n",
    "\n",
    "## solve \n",
    "sol=solve_ivp(pendulum_ode,[0,40*Tp],(theta_0,theta_0t),t_eval=np.arange(0,40*Tp,Tp/8))\n",
    "\n",
    "print(sol)\n",
    "\n",
    "theta=sol.y[0]\n",
    "print(len(theta))\n",
    "\n",
    "#print(theta)\n",
    "#theta_t=sol.y[1]\n",
    "#print(theta_1t)\n",
    "#print(np.rad2deg(sol.y[2]))\n",
    "\n",
    "##convert rad to deg\n",
    "theta_deg=np.rad2deg(sol.y[0])\n",
    "#print(theta_deg)\n",
    "theta_dot_deg=np.rad2deg(sol.y[1])\n",
    "#print(theta_dot_deg)\n",
    "t=sol.t\n",
    "#print(t)\n",
    "np.savetxt(\"pendulum.csv\",np.transpose([theta_deg,theta_dot_deg]),delimiter=\",\")\n",
    "\n"
   ]
  },
  {
   "cell_type": "code",
   "execution_count": null,
   "id": "4f8dd210-ec25-4280-ba3b-83647abce3a7",
   "metadata": {},
   "outputs": [],
   "source": [
    "## plot\n",
    "plt.plot(t,theta_deg,label=\"Angular position\",color=\"red\",linestyle=\"-\",marker=\"*\",lw=2)\n",
    "plt.plot(t,theta_dot_deg,label=\"Angular Velocity\",color=\"blue\",linestyle=\"-\",marker=\".\",lw=2)\n",
    "plt.legend()\n",
    "plt.title(\"Motion of Simple pendulum\")\n",
    "plt.xlabel(\"Time in (s)\")\n",
    "plt.ylabel(\"Angular Position (deg)and Angular Velocity (deg/s)\")\n",
    "plt.grid()\n",
    "plt.show()"
   ]
  },
  {
   "cell_type": "code",
   "execution_count": null,
   "id": "a5ccbe9a-a784-4e9a-ae06-43d4af15707d",
   "metadata": {},
   "outputs": [],
   "source": [
    "## Animation\n",
    "fig,ax=plt.subplots()\n",
    "\n",
    "theta_curve,=ax.plot(t[0],theta_deg[0],\"r\")\n",
    "theta_dot_curve,=ax.plot(t[0],theta_dot_deg[0],\"b\")\n",
    "ax.set_title(\"Simple Pendulum: Angular position and Velocity vs time\")\n",
    "ax.set_xlim(0,20)\n",
    "ax.set_ylim(-100,100)\n",
    "ax.set_xlabel(\"time\")\n",
    "ax.set_ylabel(\" position and velocity \")\n",
    "ax.grid()\n",
    "\n",
    "def animate(i):\n",
    "    theta_curve.set_data(t[:i+1],theta_deg[:i+1])\n",
    "    theta_dot_curve.set_data(t[:i+1],theta_dot_deg[:i+1])\n",
    "\n",
    "animat= animation.FuncAnimation(fig,animate,frames=len(t))\n",
    "animat.save(\"simple_animation.mp4\", writer=FFMpegWriter(fps=30))\n",
    "plt.show()\n"
   ]
  },
  {
   "cell_type": "code",
   "execution_count": null,
   "id": "e84fbbc6",
   "metadata": {},
   "outputs": [],
   "source": [
    "## Phase diagram\n",
    "plt.plot(theta_deg,theta_dot_deg,\"g\")\n",
    "plt.title(\"Phase Diagram\")\n",
    "plt.xlabel(\"Angular position in deg\")\n",
    "plt.ylabel(\"Angular Velocity in deg/sec\")\n",
    "plt.grid()\n",
    "plt.show()"
   ]
  },
  {
   "cell_type": "code",
   "execution_count": null,
   "id": "96caf2dc",
   "metadata": {},
   "outputs": [],
   "source": [
    "## Animate Phase Diagram\n",
    "\n",
    "fig_phase,ax=plt.subplots()\n",
    "\n",
    "phase_curve, =ax.plot(theta_deg[0],theta_dot_deg[0],\"g\")\n",
    "phase_dot, =ax.plot(theta_deg[0],theta_dot_deg[0],\"ro\")\n",
    "\n",
    "ax.set_title(\"Phase_Animation\")\n",
    "ax.set_xlabel(\"Angular Position\")\n",
    "ax.set_xlim(-12,12)\n",
    "ax.set_ylim(-35,35)\n",
    "ax.set_ylabel(\"Angular Velocity\")\n",
    "\n",
    "def anim_phase(i):\n",
    "    phase_curve.set_data(theta_deg[:i+1],theta_dot_deg[:i+1])\n",
    "    phase_dot.set_data([theta_deg[i]],[theta_dot_deg[i]])\n",
    "\n",
    "Phase_anim=animation.FuncAnimation(fig_phase,anim_phase,frames=len(t))\n",
    "Phase_anim.save(\"Phase_animation.mp4\",writer=FFMpegWriter(fps=(30)))\n",
    "plt.show()"
   ]
  },
  {
   "cell_type": "code",
   "execution_count": null,
   "id": "5e82dbdc",
   "metadata": {},
   "outputs": [],
   "source": [
    "## Animate the Pendulum Swing\n",
    "def pend_position(theta):\n",
    "    return (l*sin(theta),-l*cos(theta))\n",
    "\n",
    "fig_swing=plt.figure()\n",
    "ax = fig_swing.add_subplot(aspect=\"equal\")\n",
    "ax.set_xlim(-1,1)\n",
    "ax.set_ylim(-1.25,0.25)\n",
    "ax.grid()\n",
    "ax.set_title(\"Motion of Simple Pendulum\")\n",
    "\n",
    "x0,y0=pend_position(theta_0)\n",
    "rope,=ax.plot([0,x0],[0,y0],\"k\",lw=2)\n",
    "mass_circle=ax.add_patch(plt.Circle(pend_position(theta_0),radius=0.07,fc=\"r\",zorder=2))\n",
    "\n",
    "def animation_swing(i):\n",
    "    \n",
    "    x,y=pend_position(theta[i])\n",
    "    rope.set_data([0,x],[0,y])\n",
    "    mass_circle.set_center((x,y))\n",
    "\n",
    "swing_animation=animation.FuncAnimation(fig_swing,animation_swing,frames=len(t))\n",
    "swing_animation.save(\"swing_animation.mp4\",writer=FFMpegWriter(fps=30))\n",
    "\n",
    "plt.show()"
   ]
  },
  {
   "cell_type": "code",
   "execution_count": null,
   "id": "a4f578dc",
   "metadata": {},
   "outputs": [],
   "source": []
  }
 ],
 "metadata": {
  "kernelspec": {
   "display_name": "Python 3",
   "language": "python",
   "name": "python3"
  },
  "language_info": {
   "codemirror_mode": {
    "name": "ipython",
    "version": 3
   },
   "file_extension": ".py",
   "mimetype": "text/x-python",
   "name": "python",
   "nbconvert_exporter": "python",
   "pygments_lexer": "ipython3",
   "version": "3.13.7"
  }
 },
 "nbformat": 4,
 "nbformat_minor": 5
}
